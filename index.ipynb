{
 "cells": [
  {
   "cell_type": "markdown",
   "metadata": {},
   "source": [
    "# Introduction to Cross-Validation - Lab\n",
    "\n",
    "## Introduction\n",
    "\n",
    "In this lab, you'll be able to practice your cross-validation skills!\n",
    "\n",
    "\n",
    "## Objectives\n",
    "\n",
    "You will be able to:\n",
    "\n",
    "- Compare the results with normal holdout validation\n",
    "- Apply 5-fold cross validation for regression"
   ]
  },
  {
   "cell_type": "markdown",
   "metadata": {},
   "source": [
    "## Let's get started\n",
    "\n",
    "This time, let's only include the variables that were previously selected using recursive feature elimination. We included the code to preprocess below."
   ]
  },
  {
   "cell_type": "code",
   "execution_count": 1,
   "metadata": {},
   "outputs": [],
   "source": [
    "import pandas as pd\n",
    "import numpy as np\n",
    "import matplotlib.pyplot as plt\n",
    "%matplotlib inline\n",
    "from sklearn.datasets import load_boston\n",
    "\n",
    "boston = load_boston()\n",
    "\n",
    "boston_features = pd.DataFrame(boston.data, columns = boston.feature_names)\n",
    "b = boston_features[\"B\"]\n",
    "logdis = np.log(boston_features[\"DIS\"])\n",
    "loglstat = np.log(boston_features[\"LSTAT\"])\n",
    "\n",
    "# minmax scaling\n",
    "boston_features[\"B\"] = (b-min(b))/(max(b)-min(b))\n",
    "boston_features[\"DIS\"] = (logdis-min(logdis))/(max(logdis)-min(logdis))\n",
    "\n",
    "#standardization\n",
    "boston_features[\"LSTAT\"] = (loglstat-np.mean(loglstat))/np.sqrt(np.var(loglstat))"
   ]
  },
  {
   "cell_type": "code",
   "execution_count": 4,
   "metadata": {},
   "outputs": [],
   "source": [
    "X = boston_features[['CHAS', 'RM', 'DIS', 'B', 'LSTAT']]\n",
    "y = pd.DataFrame(boston.target, columns=['price'])"
   ]
  },
  {
   "cell_type": "markdown",
   "metadata": {},
   "source": [
    "## Train test split\n",
    "\n",
    "Perform a train-test-split with a test set of 0.20."
   ]
  },
  {
   "cell_type": "code",
   "execution_count": 9,
   "metadata": {},
   "outputs": [],
   "source": [
    "from sklearn.model_selection import train_test_split\n",
    "from sklearn.linear_model import LinearRegression\n",
    "linreg = LinearRegression()"
   ]
  },
  {
   "cell_type": "code",
   "execution_count": 10,
   "metadata": {},
   "outputs": [],
   "source": [
    "X_train, X_test, y_train, y_test = train_test_split(X, y, test_size=0.2)"
   ]
  },
  {
   "cell_type": "code",
   "execution_count": 11,
   "metadata": {},
   "outputs": [],
   "source": [
    "linreg.fit(X_train, y_train)\n",
    "y_hat_train = linreg.predict(X_train)\n",
    "y_hat_test = linreg.predict(X_test)\n",
    "train_residuals = y_hat_train - y_train\n",
    "test_residuals = y_hat_test - y_test\n",
    "mse_train = np.sum((y_train-y_hat_train)**2)/len(y_train)\n",
    "mse_test =np.sum((y_test-y_hat_test)**2)/len(y_test)"
   ]
  },
  {
   "cell_type": "markdown",
   "metadata": {},
   "source": [
    "Fit the model and apply the model to the make test set predictions"
   ]
  },
  {
   "cell_type": "code",
   "execution_count": null,
   "metadata": {},
   "outputs": [],
   "source": []
  },
  {
   "cell_type": "markdown",
   "metadata": {},
   "source": [
    "Calculate the residuals and the mean squared error"
   ]
  },
  {
   "cell_type": "code",
   "execution_count": 12,
   "metadata": {},
   "outputs": [
    {
     "name": "stdout",
     "output_type": "stream",
     "text": [
      "Train Mean Squarred Error: price    19.920831\n",
      "dtype: float64\n",
      "Test Mean Squarred Error: price    29.867131\n",
      "dtype: float64\n"
     ]
    }
   ],
   "source": [
    "print('Train Mean Squarred Error:', mse_train)\n",
    "print('Test Mean Squarred Error:', mse_test)"
   ]
  },
  {
   "cell_type": "markdown",
   "metadata": {},
   "source": [
    "## Cross-Validation: let's build it from scratch!"
   ]
  },
  {
   "cell_type": "markdown",
   "metadata": {},
   "source": [
    "### Create a cross-validation function"
   ]
  },
  {
   "cell_type": "markdown",
   "metadata": {},
   "source": [
    "Write a function k-folds that splits a dataset into k evenly sized pieces.\n",
    "If the full dataset is not divisible by k, make the first few folds one larger then later ones.\n",
    "\n",
    "We want the folds to be a list of subsets of data!"
   ]
  },
  {
   "cell_type": "code",
   "execution_count": 46,
   "metadata": {},
   "outputs": [
    {
     "name": "stdout",
     "output_type": "stream",
     "text": [
      "CHAS      0.000000\n",
      "RM        6.575000\n",
      "DIS       0.542096\n",
      "B         1.000000\n",
      "LSTAT    -1.275260\n",
      "price    24.000000\n",
      "Name: 0, dtype: float64\n",
      "CHAS      0.000000\n",
      "RM        6.421000\n",
      "DIS       0.623954\n",
      "B         1.000000\n",
      "LSTAT    -0.263711\n",
      "price    21.600000\n",
      "Name: 1, dtype: float64\n",
      "CHAS      0.000000\n",
      "RM        7.185000\n",
      "DIS       0.623954\n",
      "B         0.989737\n",
      "LSTAT    -1.627858\n",
      "price    34.700000\n",
      "Name: 2, dtype: float64\n",
      "CHAS      0.000000\n",
      "RM        6.998000\n",
      "DIS       0.707895\n",
      "B         0.994276\n",
      "LSTAT    -2.153192\n",
      "price    33.400000\n",
      "Name: 3, dtype: float64\n",
      "CHAS      0.000000\n",
      "RM        7.147000\n",
      "DIS       0.707895\n",
      "B         1.000000\n",
      "LSTAT    -1.162114\n",
      "price    36.200000\n",
      "Name: 4, dtype: float64\n",
      "CHAS      0.000000\n",
      "RM        6.430000\n",
      "DIS       0.707895\n",
      "B         0.992990\n",
      "LSTAT    -1.200048\n",
      "price    28.700000\n",
      "Name: 5, dtype: float64\n",
      "CHAS      0.000000\n",
      "RM        6.012000\n",
      "DIS       0.671500\n",
      "B         0.996722\n",
      "LSTAT     0.248456\n",
      "price    22.900000\n",
      "Name: 6, dtype: float64\n",
      "CHAS      0.000000\n",
      "RM        6.172000\n",
      "DIS       0.700059\n",
      "B         1.000000\n",
      "LSTAT     0.968416\n",
      "price    27.100000\n",
      "Name: 7, dtype: float64\n",
      "CHAS      0.000000\n",
      "RM        5.631000\n",
      "DIS       0.709276\n",
      "B         0.974104\n",
      "LSTAT     1.712312\n",
      "price    16.500000\n",
      "Name: 8, dtype: float64\n",
      "CHAS      0.000000\n",
      "RM        6.004000\n",
      "DIS       0.743201\n",
      "B         0.974305\n",
      "LSTAT     0.779802\n",
      "price    18.900000\n",
      "Name: 9, dtype: float64\n",
      "CHAS      0.000000\n",
      "RM        6.377000\n",
      "DIS       0.727217\n",
      "B         0.988956\n",
      "LSTAT     1.077829\n",
      "price    15.000000\n",
      "Name: 10, dtype: float64\n",
      "CHAS      0.000000\n",
      "RM        6.009000\n",
      "DIS       0.719175\n",
      "B         1.000000\n",
      "LSTAT     0.357391\n",
      "price    18.900000\n",
      "Name: 11, dtype: float64\n"
     ]
    },
    {
     "data": {
      "text/plain": [
       "[Empty DataFrame\n",
       " Columns: [CHAS, RM, DIS, B, LSTAT, price]\n",
       " Index: [], Empty DataFrame\n",
       " Columns: [CHAS, RM, DIS, B, LSTAT, price]\n",
       " Index: [], Empty DataFrame\n",
       " Columns: [CHAS, RM, DIS, B, LSTAT, price]\n",
       " Index: [], Empty DataFrame\n",
       " Columns: [CHAS, RM, DIS, B, LSTAT, price]\n",
       " Index: [], Empty DataFrame\n",
       " Columns: [CHAS, RM, DIS, B, LSTAT, price]\n",
       " Index: [], Empty DataFrame\n",
       " Columns: [CHAS, RM, DIS, B, LSTAT, price]\n",
       " Index: [], Empty DataFrame\n",
       " Columns: [CHAS, RM, DIS, B, LSTAT, price]\n",
       " Index: [], Empty DataFrame\n",
       " Columns: [CHAS, RM, DIS, B, LSTAT, price]\n",
       " Index: [], Empty DataFrame\n",
       " Columns: [CHAS, RM, DIS, B, LSTAT, price]\n",
       " Index: [], Empty DataFrame\n",
       " Columns: [CHAS, RM, DIS, B, LSTAT, price]\n",
       " Index: []]"
      ]
     },
     "execution_count": 46,
     "metadata": {},
     "output_type": "execute_result"
    }
   ],
   "source": [
    "blah = [pd.DataFrame(columns=df_concat.columns) for _ in range(10)]\n",
    "\n",
    "for i in range(len(df_concat)):\n",
    "    print(df_concat.iloc[i])\n",
    "    if i>10: break\n",
    "\n",
    "blah"
   ]
  },
  {
   "cell_type": "code",
   "execution_count": 83,
   "metadata": {},
   "outputs": [],
   "source": [
    "def kfolds(data, k):\n",
    "    # Force data as pandas dataframe\n",
    "    # add 1 to fold size to account for leftovers\n",
    "    data = pd.DataFrame(data)\n",
    "    n = len(data)\n",
    "    fold_n = n // k\n",
    "    remainder = n%k\n",
    "    folds = [pd.DataFrame(columns=data.columns) for _ in range(k)]\n",
    "    foldstart = 0\n",
    "    for i in range(k):\n",
    "        if i<remainder:\n",
    "            folds[i] = data.iloc[foldstart:(foldstart+fold_n+1), :]\n",
    "        else:\n",
    "            folds[i] = data.iloc[foldstart:(foldstart+fold_n), :]\n",
    "        foldstart += fold_n\n",
    "    return folds"
   ]
  },
  {
   "cell_type": "markdown",
   "metadata": {},
   "source": [
    "### Apply it to the Boston Housing Data"
   ]
  },
  {
   "cell_type": "code",
   "execution_count": 84,
   "metadata": {},
   "outputs": [
    {
     "data": {
      "text/html": [
       "<div>\n",
       "<style scoped>\n",
       "    .dataframe tbody tr th:only-of-type {\n",
       "        vertical-align: middle;\n",
       "    }\n",
       "\n",
       "    .dataframe tbody tr th {\n",
       "        vertical-align: top;\n",
       "    }\n",
       "\n",
       "    .dataframe thead th {\n",
       "        text-align: right;\n",
       "    }\n",
       "</style>\n",
       "<table border=\"1\" class=\"dataframe\">\n",
       "  <thead>\n",
       "    <tr style=\"text-align: right;\">\n",
       "      <th></th>\n",
       "      <th>CHAS</th>\n",
       "      <th>RM</th>\n",
       "      <th>DIS</th>\n",
       "      <th>B</th>\n",
       "      <th>LSTAT</th>\n",
       "      <th>price</th>\n",
       "    </tr>\n",
       "  </thead>\n",
       "  <tbody>\n",
       "    <tr>\n",
       "      <th>0</th>\n",
       "      <td>0.0</td>\n",
       "      <td>6.575</td>\n",
       "      <td>0.542096</td>\n",
       "      <td>1.000000</td>\n",
       "      <td>-1.275260</td>\n",
       "      <td>24.0</td>\n",
       "    </tr>\n",
       "    <tr>\n",
       "      <th>1</th>\n",
       "      <td>0.0</td>\n",
       "      <td>6.421</td>\n",
       "      <td>0.623954</td>\n",
       "      <td>1.000000</td>\n",
       "      <td>-0.263711</td>\n",
       "      <td>21.6</td>\n",
       "    </tr>\n",
       "    <tr>\n",
       "      <th>2</th>\n",
       "      <td>0.0</td>\n",
       "      <td>7.185</td>\n",
       "      <td>0.623954</td>\n",
       "      <td>0.989737</td>\n",
       "      <td>-1.627858</td>\n",
       "      <td>34.7</td>\n",
       "    </tr>\n",
       "    <tr>\n",
       "      <th>3</th>\n",
       "      <td>0.0</td>\n",
       "      <td>6.998</td>\n",
       "      <td>0.707895</td>\n",
       "      <td>0.994276</td>\n",
       "      <td>-2.153192</td>\n",
       "      <td>33.4</td>\n",
       "    </tr>\n",
       "    <tr>\n",
       "      <th>4</th>\n",
       "      <td>0.0</td>\n",
       "      <td>7.147</td>\n",
       "      <td>0.707895</td>\n",
       "      <td>1.000000</td>\n",
       "      <td>-1.162114</td>\n",
       "      <td>36.2</td>\n",
       "    </tr>\n",
       "  </tbody>\n",
       "</table>\n",
       "</div>"
      ],
      "text/plain": [
       "   CHAS     RM       DIS         B     LSTAT  price\n",
       "0   0.0  6.575  0.542096  1.000000 -1.275260   24.0\n",
       "1   0.0  6.421  0.623954  1.000000 -0.263711   21.6\n",
       "2   0.0  7.185  0.623954  0.989737 -1.627858   34.7\n",
       "3   0.0  6.998  0.707895  0.994276 -2.153192   33.4\n",
       "4   0.0  7.147  0.707895  1.000000 -1.162114   36.2"
      ]
     },
     "execution_count": 84,
     "metadata": {},
     "output_type": "execute_result"
    }
   ],
   "source": [
    "# Make sure to concatenate the data again\n",
    "df_concat = pd.concat([X, y], axis=1)\n",
    "df_concat.head()"
   ]
  },
  {
   "cell_type": "code",
   "execution_count": 85,
   "metadata": {},
   "outputs": [
    {
     "data": {
      "text/plain": [
       "506"
      ]
     },
     "execution_count": 85,
     "metadata": {},
     "output_type": "execute_result"
    }
   ],
   "source": [
    "len(df_concat)"
   ]
  },
  {
   "cell_type": "code",
   "execution_count": 89,
   "metadata": {
    "scrolled": true
   },
   "outputs": [
    {
     "name": "stdout",
     "output_type": "stream",
     "text": [
      "102\n",
      "101\n",
      "101\n",
      "101\n",
      "101\n"
     ]
    }
   ],
   "source": [
    "boston_folds = kfolds(df_concat, 5)\n",
    "len(boston_folds)\n",
    "for fold in boston_folds:\n",
    "    print(len(fold))"
   ]
  },
  {
   "cell_type": "markdown",
   "metadata": {},
   "source": [
    "### Perform a linear regression for each fold, and calculate the training and test error"
   ]
  },
  {
   "cell_type": "markdown",
   "metadata": {},
   "source": [
    "Perform linear regression on each and calculate the training and test error."
   ]
  },
  {
   "cell_type": "code",
   "execution_count": 97,
   "metadata": {},
   "outputs": [
    {
     "name": "stdout",
     "output_type": "stream",
     "text": [
      "[price    23.663952\n",
      "dtype: float64, price    22.622037\n",
      "dtype: float64, price    19.184949\n",
      "dtype: float64, price    14.966882\n",
      "dtype: float64, price    22.303315\n",
      "dtype: float64]\n",
      "[price    13.675297\n",
      "dtype: float64, price    17.036983\n",
      "dtype: float64, price    37.612544\n",
      "dtype: float64, price    57.454979\n",
      "dtype: float64, price    24.743414\n",
      "dtype: float64]\n"
     ]
    }
   ],
   "source": [
    "test_errs = []\n",
    "train_errs = []\n",
    "k=5\n",
    "\n",
    "\n",
    "\n",
    "for n in range(k):\n",
    "    # Split in train and test for the fold\n",
    "    adj_folds = boston_folds.copy()\n",
    "    test = adj_folds.pop(n)\n",
    "    train = pd.concat(adj_folds)\n",
    "    # Fit a linear regression model\n",
    "    X_train = train[X.columns]\n",
    "    y_train = train[y.columns]\n",
    "    X_test = test[X.columns]\n",
    "    y_test = test[y.columns]\n",
    "    linreg.fit(X_train, y_train)\n",
    "    y_hat_train = linreg.predict(X_train)\n",
    "    y_hat_test = linreg.predict(X_test)\n",
    "    train_residuals = y_hat_train - y_train\n",
    "    test_residuals = y_hat_test - y_test\n",
    "    mse_train = np.sum((y_train-y_hat_train)**2)/len(y_train)\n",
    "    mse_test =np.sum((y_test-y_hat_test)**2)/len(y_test)\n",
    "    train_errs.append(mse_train)\n",
    "    test_errs.append(mse_test)\n",
    "    #Evaluate Train and Test Errors\n",
    "\n",
    "\n",
    "print(train_errs)\n",
    "print(test_errs)"
   ]
  },
  {
   "cell_type": "markdown",
   "metadata": {},
   "source": [
    "## Cross-Validation using Scikit-Learn"
   ]
  },
  {
   "cell_type": "markdown",
   "metadata": {},
   "source": [
    "This was a bit of work! Now, let's perform 5-fold cross-validation to get the mean squared error through scikit-learn. Let's have a look at the five individual MSEs and explain what's going on."
   ]
  },
  {
   "cell_type": "code",
   "execution_count": 100,
   "metadata": {},
   "outputs": [],
   "source": [
    "from sklearn.metrics import mean_squared_error\n",
    "from sklearn.model_selection import cross_val_score\n",
    "\n",
    "cv_5_results = cross_val_score(linreg, X, y, cv=5, scoring=\"neg_mean_squared_error\")\n"
   ]
  },
  {
   "cell_type": "markdown",
   "metadata": {},
   "source": [
    "Next, calculate the mean of the MSE over the 5 cross-validations and compare and contrast with the result from the train-test-split case."
   ]
  },
  {
   "cell_type": "code",
   "execution_count": 101,
   "metadata": {},
   "outputs": [
    {
     "name": "stdout",
     "output_type": "stream",
     "text": [
      "[-13.40514492 -17.4440168  -37.03271139 -58.27954385 -26.09798876]\n"
     ]
    }
   ],
   "source": [
    "print(cv_5_results)"
   ]
  },
  {
   "cell_type": "markdown",
   "metadata": {},
   "source": [
    "##  Summary "
   ]
  },
  {
   "cell_type": "markdown",
   "metadata": {},
   "source": [
    "Congratulations! You now practiced your knowledge on k-fold crossvalidation!"
   ]
  }
 ],
 "metadata": {
  "kernelspec": {
   "display_name": "Python 3",
   "language": "python",
   "name": "python3"
  },
  "language_info": {
   "codemirror_mode": {
    "name": "ipython",
    "version": 3
   },
   "file_extension": ".py",
   "mimetype": "text/x-python",
   "name": "python",
   "nbconvert_exporter": "python",
   "pygments_lexer": "ipython3",
   "version": "3.6.6"
  }
 },
 "nbformat": 4,
 "nbformat_minor": 2
}
